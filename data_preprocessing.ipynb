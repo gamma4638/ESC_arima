{
 "cells": [
  {
   "cell_type": "code",
   "execution_count": 5,
   "id": "d661863b",
   "metadata": {},
   "outputs": [],
   "source": [
    "import os\n",
    "\n",
    "root_dir = \".\"   # 프로젝트 최상위\n",
    "rel_path = os.path.join(\n",
    "    \"CHB-MIT Dataset\",\n",
    "    \"Patient Specific\",\n",
    "    \"Intra-specific\",\n",
    "    \"Seizure Patterns\"\n",
    ")\n",
    "search_root = os.path.join(root_dir, rel_path)"
   ]
  },
  {
   "cell_type": "code",
   "execution_count": 6,
   "id": "6f8f6888",
   "metadata": {},
   "outputs": [],
   "source": [
    "import re\n",
    "\n",
    "pattern = re.compile(\n",
    "    r'chb(\\d{2}_\\d{2})_(pre-ictal|ictal|post-ictal)\\.csv$',\n",
    "    re.IGNORECASE\n",
    ")\n"
   ]
  },
  {
   "cell_type": "code",
   "execution_count": 7,
   "id": "c186d858",
   "metadata": {},
   "outputs": [],
   "source": [
    "groups = {}   # { \"01_03\": { \"pre-ictal\": path1, \"ictal\": path2, … }, ... }\n",
    "\n",
    "for dirpath, _, filenames in os.walk(search_root):\n",
    "    for fname in filenames:\n",
    "        m = pattern.match(fname)\n",
    "        if not m:\n",
    "            continue\n",
    "        idx, phase = m.groups()\n",
    "        groups.setdefault(idx, {})[phase.lower()] = os.path.join(dirpath, fname)\n"
   ]
  },
  {
   "cell_type": "code",
   "execution_count": null,
   "id": "1cf832da",
   "metadata": {},
   "outputs": [
    {
     "name": "stdout",
     "output_type": "stream",
     "text": [
      "✅ 저장됨: .\\CHB-MIT Dataset\\Patient Specific\\Intra-specific\\Seizure Patterns\\combined1\\chb_01_03_seizure.csv\n",
      "✅ 저장됨: .\\CHB-MIT Dataset\\Patient Specific\\Intra-specific\\Seizure Patterns\\combined1\\chb_01_04_seizure.csv\n",
      "✅ 저장됨: .\\CHB-MIT Dataset\\Patient Specific\\Intra-specific\\Seizure Patterns\\combined1\\chb_01_15_seizure.csv\n",
      "✅ 저장됨: .\\CHB-MIT Dataset\\Patient Specific\\Intra-specific\\Seizure Patterns\\combined1\\chb_01_16_seizure.csv\n",
      "✅ 저장됨: .\\CHB-MIT Dataset\\Patient Specific\\Intra-specific\\Seizure Patterns\\combined1\\chb_01_18_seizure.csv\n",
      "✅ 저장됨: .\\CHB-MIT Dataset\\Patient Specific\\Intra-specific\\Seizure Patterns\\combined1\\chb_01_21_seizure.csv\n",
      "✅ 저장됨: .\\CHB-MIT Dataset\\Patient Specific\\Intra-specific\\Seizure Patterns\\combined1\\chb_01_26_seizure.csv\n",
      "✅ 저장됨: .\\CHB-MIT Dataset\\Patient Specific\\Intra-specific\\Seizure Patterns\\combined1\\chb_21_19_seizure.csv\n",
      "✅ 저장됨: .\\CHB-MIT Dataset\\Patient Specific\\Intra-specific\\Seizure Patterns\\combined1\\chb_21_20_seizure.csv\n",
      "✅ 저장됨: .\\CHB-MIT Dataset\\Patient Specific\\Intra-specific\\Seizure Patterns\\combined1\\chb_21_21_seizure.csv\n",
      "✅ 저장됨: .\\CHB-MIT Dataset\\Patient Specific\\Intra-specific\\Seizure Patterns\\combined1\\chb_21_22_seizure.csv\n"
     ]
    }
   ],
   "source": [
    "import pandas as pd\n",
    "\n",
    "output_dir = os.path.join(search_root, \"combined1\")\n",
    "os.makedirs(output_dir, exist_ok=True)\n",
    "\n",
    "for idx, phases in groups.items():\n",
    "    dfs = []\n",
    "    for phase in (\"pre-ictal\", \"ictal\", \"post-ictal\"):\n",
    "        path = phases.get(phase)\n",
    "        if not path:\n",
    "            print(f\"⚠️ 누락: {idx} → {phase}\")\n",
    "            continue\n",
    "\n",
    "        # 헤더 없는 CSV로 읽기\n",
    "        df = pd.read_csv(path, header=None)\n",
    "        # 마지막(쓰레기) 행 제거\n",
    "        df = df.iloc[:-1]\n",
    "        dfs.append(df)\n",
    "\n",
    "    if not dfs:\n",
    "        continue\n",
    "\n",
    "    # 그냥 세 데이터프레임을 세로로 붙임\n",
    "    combined = pd.concat(dfs, ignore_index=True)\n",
    "\n",
    "    out_path = os.path.join(output_dir, f\"chb_{idx}_seizure.csv\")\n",
    "    # 결과물도 헤더 없이 저장\n",
    "    combined.to_csv(out_path, index=False, header=False)\n",
    "    print(f\"✅ 저장됨: {out_path}\")\n"
   ]
  },
  {
   "cell_type": "code",
   "execution_count": 12,
   "id": "d6575dc7",
   "metadata": {},
   "outputs": [
    {
     "name": "stdout",
     "output_type": "stream",
     "text": [
      "✅ Processed & Saved: .\\CHB-MIT Dataset\\Patient Specific\\Intra-specific\\Non-Seizure Patterns\\combined_non_seizure\\chb01_01_non-seizure(ictal).csv\n",
      "✅ Processed & Saved: .\\CHB-MIT Dataset\\Patient Specific\\Intra-specific\\Non-Seizure Patterns\\combined_non_seizure\\chb01_05_non-seizure(ictal).csv\n",
      "✅ Processed & Saved: .\\CHB-MIT Dataset\\Patient Specific\\Intra-specific\\Non-Seizure Patterns\\combined_non_seizure\\chb01_07_non-seizure(ictal).csv\n",
      "✅ Processed & Saved: .\\CHB-MIT Dataset\\Patient Specific\\Intra-specific\\Non-Seizure Patterns\\combined_non_seizure\\chb01_09_non-seizure(ictal).csv\n",
      "✅ Processed & Saved: .\\CHB-MIT Dataset\\Patient Specific\\Intra-specific\\Non-Seizure Patterns\\combined_non_seizure\\chb01_11_non-seizure(ictal).csv\n",
      "✅ Processed & Saved: .\\CHB-MIT Dataset\\Patient Specific\\Intra-specific\\Non-Seizure Patterns\\combined_non_seizure\\chb01_13_non-seizure(ictal).csv\n",
      "✅ Processed & Saved: .\\CHB-MIT Dataset\\Patient Specific\\Intra-specific\\Non-Seizure Patterns\\combined_non_seizure\\chb01_17_non-seizure(ictal).csv\n",
      "✅ Processed & Saved: .\\CHB-MIT Dataset\\Patient Specific\\Intra-specific\\Non-Seizure Patterns\\combined_non_seizure\\chb21_01_non-seizure(ictal).csv\n",
      "✅ Processed & Saved: .\\CHB-MIT Dataset\\Patient Specific\\Intra-specific\\Non-Seizure Patterns\\combined_non_seizure\\chb21_02_non-seizure(ictal).csv\n",
      "✅ Processed & Saved: .\\CHB-MIT Dataset\\Patient Specific\\Intra-specific\\Non-Seizure Patterns\\combined_non_seizure\\chb21_03_non-seizure(ictal).csv\n",
      "✅ Processed & Saved: .\\CHB-MIT Dataset\\Patient Specific\\Intra-specific\\Non-Seizure Patterns\\combined_non_seizure\\chb21_04_non-seizure(ictal).csv\n",
      "✅ Processed & Saved: .\\CHB-MIT Dataset\\Patient Specific\\Intra-specific\\Non-Seizure Patterns\\combined_non_seizure\\chb01_01_non-seizure(ictal).csv\n",
      "✅ Processed & Saved: .\\CHB-MIT Dataset\\Patient Specific\\Intra-specific\\Non-Seizure Patterns\\combined_non_seizure\\chb01_05_non-seizure(ictal).csv\n",
      "✅ Processed & Saved: .\\CHB-MIT Dataset\\Patient Specific\\Intra-specific\\Non-Seizure Patterns\\combined_non_seizure\\chb01_07_non-seizure(ictal).csv\n",
      "✅ Processed & Saved: .\\CHB-MIT Dataset\\Patient Specific\\Intra-specific\\Non-Seizure Patterns\\combined_non_seizure\\chb01_09_non-seizure(ictal).csv\n",
      "✅ Processed & Saved: .\\CHB-MIT Dataset\\Patient Specific\\Intra-specific\\Non-Seizure Patterns\\combined_non_seizure\\chb01_11_non-seizure(ictal).csv\n",
      "✅ Processed & Saved: .\\CHB-MIT Dataset\\Patient Specific\\Intra-specific\\Non-Seizure Patterns\\combined_non_seizure\\chb01_13_non-seizure(ictal).csv\n",
      "✅ Processed & Saved: .\\CHB-MIT Dataset\\Patient Specific\\Intra-specific\\Non-Seizure Patterns\\combined_non_seizure\\chb01_17_non-seizure(ictal).csv\n",
      "✅ Processed & Saved: .\\CHB-MIT Dataset\\Patient Specific\\Intra-specific\\Non-Seizure Patterns\\combined_non_seizure\\chb21_01_non-seizure(ictal).csv\n",
      "✅ Processed & Saved: .\\CHB-MIT Dataset\\Patient Specific\\Intra-specific\\Non-Seizure Patterns\\combined_non_seizure\\chb21_02_non-seizure(ictal).csv\n",
      "✅ Processed & Saved: .\\CHB-MIT Dataset\\Patient Specific\\Intra-specific\\Non-Seizure Patterns\\combined_non_seizure\\chb21_03_non-seizure(ictal).csv\n",
      "✅ Processed & Saved: .\\CHB-MIT Dataset\\Patient Specific\\Intra-specific\\Non-Seizure Patterns\\combined_non_seizure\\chb21_04_non-seizure(ictal).csv\n"
     ]
    }
   ],
   "source": [
    "import os\n",
    "import re\n",
    "import pandas as pd\n",
    "\n",
    "def process_non_seizure_files(root_dir: str, output_dir: str = None):\n",
    "    \"\"\"\n",
    "    root_dir 이하를 순회하며, 지정된 chbXX_YY ID 목록에 해당하는\n",
    "    'non-seizure' CSV 파일을 찾아 마지막 행을 제거한 뒤\n",
    "    combined_non_seizure 폴더에 저장합니다.\n",
    "    \"\"\"\n",
    "    # 처리할 파일 ID 목록\n",
    "    desired_ids = {\n",
    "        \"chb01_01\", \"chb01_05\", \"chb01_07\", \"chb01_09\", \"chb01_11\",\n",
    "        \"chb01_13\", \"chb01_17\", \"chb21_01\", \"chb21_02\", \"chb21_03\", \"chb21_04\"\n",
    "    }\n",
    "\n",
    "    # Non-Seizure Patterns 하위 경로\n",
    "    rel_path = os.path.join(\n",
    "        \"CHB-MIT Dataset\",\n",
    "        \"Patient Specific\",\n",
    "        \"Intra-specific\",\n",
    "        \"Non-Seizure Patterns\"\n",
    "    )\n",
    "    search_root = os.path.join(root_dir, rel_path)\n",
    "\n",
    "    # 출력 폴더 설정\n",
    "    if output_dir is None:\n",
    "        output_dir = os.path.join(search_root, \"combined_non_seizure\")\n",
    "    os.makedirs(output_dir, exist_ok=True)\n",
    "\n",
    "    # 파일명에서 ID를 뽑아낼 정규식\n",
    "    pattern = re.compile(r'^(chb\\d{2}_\\d{2})_non-seizure.*\\.csv$', re.IGNORECASE)\n",
    "\n",
    "    for dirpath, _, filenames in os.walk(search_root):\n",
    "        for fname in filenames:\n",
    "            m = pattern.match(fname)\n",
    "            if not m:\n",
    "                continue\n",
    "            file_id = m.group(1)\n",
    "            if file_id not in desired_ids:\n",
    "                continue\n",
    "\n",
    "            src = os.path.join(dirpath, fname)\n",
    "            # --- 여기가 핵심: pandas로 읽어서 마지막 행 제거 ---\n",
    "            df = pd.read_csv(src, header=None)   # 헤더 없는 CSV로 읽기\n",
    "            df = df.iloc[:-1]                    # 마지막 행(쓰레기) 제거\n",
    "\n",
    "            # 저장 파일명: chbXX_YY_<원본파일명>.csv\n",
    "            dst_name = f\"{fname}\"\n",
    "            dst = os.path.join(output_dir, dst_name)\n",
    "            df.to_csv(dst, index=False, header=False)\n",
    "            print(f\"✅ Processed & Saved: {dst}\")\n",
    "\n",
    "if __name__ == \"__main__\":\n",
    "    # 프로젝트 최상위 폴더를 지정하기만 하면 됩니다.\n",
    "    process_non_seizure_files(root_dir=\".\")\n"
   ]
  }
 ],
 "metadata": {
  "kernelspec": {
   "display_name": "base",
   "language": "python",
   "name": "python3"
  },
  "language_info": {
   "codemirror_mode": {
    "name": "ipython",
    "version": 3
   },
   "file_extension": ".py",
   "mimetype": "text/x-python",
   "name": "python",
   "nbconvert_exporter": "python",
   "pygments_lexer": "ipython3",
   "version": "3.11.5"
  }
 },
 "nbformat": 4,
 "nbformat_minor": 5
}
